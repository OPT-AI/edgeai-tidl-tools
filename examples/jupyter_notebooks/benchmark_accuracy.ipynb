{
 "cells": [
  {
   "cell_type": "markdown",
   "metadata": {},
   "source": [
    "# Accuracy Benchmarking Pre-Compiled Models\n",
    "\n",
    "Here, we provide a step-by-step tutorial on how to run pre-compiled models using any of the supported runtime engines to obtain accuracy benchmarks. "
   ]
  },
  {
   "cell_type": "markdown",
   "metadata": {},
   "source": [
    "## Select the Task Type"
   ]
  },
  {
   "cell_type": "code",
   "execution_count": null,
   "metadata": {},
   "outputs": [],
   "source": [
    "import numpy as np\n",
    "import cv2\n",
    "import matplotlib.pyplot as plt\n",
    "import os\n",
    "import ipywidgets as widgets\n",
    "from edgeai_benchmark import *\n",
    "import configs\n",
    "\n",
    "tasks_list = ['classification', 'detection', 'segmentation']\n",
    "\n",
    "selected_task_id = widgets.Dropdown(\n",
    "    options=tasks_list,\n",
    "    value=tasks_list[0],\n",
    "    description='Select Task Type:',\n",
    "    disabled=False,\n",
    ")\n",
    "display(selected_task_id)\n"
   ]
  },
  {
   "cell_type": "markdown",
   "metadata": {},
   "source": [
    "## Select the RunTime Engine"
   ]
  },
  {
   "cell_type": "code",
   "execution_count": null,
   "metadata": {},
   "outputs": [],
   "source": [
    "rt_list = ['tflitert', 'tvmdlr', 'onnxrt']\n",
    "\n",
    "selected_rt_id = widgets.Dropdown(\n",
    "    options=rt_list,\n",
    "    value=rt_list[0],\n",
    "    description='Select Runtime Type:',\n",
    "    disabled=False,\n",
    ")\n",
    "display(selected_rt_id)"
   ]
  },
  {
   "cell_type": "markdown",
   "metadata": {},
   "source": [
    "## Select the Dataset to use"
   ]
  },
  {
   "cell_type": "code",
   "execution_count": null,
   "metadata": {},
   "outputs": [],
   "source": [
    "valid_dataset_list = datasets.get_dataset_categories(settings=None, task_type=selected_task_id.value)\n",
    "\n",
    "selected_dataset_id = widgets.Dropdown(\n",
    "    options=valid_dataset_list,\n",
    "    value=valid_dataset_list[0],\n",
    "    description='Select Dataset Type:',\n",
    "    disabled=False,\n",
    ")\n",
    "display(selected_dataset_id)"
   ]
  },
  {
   "cell_type": "markdown",
   "metadata": {},
   "source": [
    "## Download Dataset and Setup Pipeline\n",
    "\n",
    "When this cell is executed, if the dataset is already available, it is not downloaded. Download and data preparation will take approximately 45 - 60 minutes.\n",
    "\n",
    "<div class=\"alert alert-block alert-info\">\n",
    "<b>Note:</b> You cannot interrupt the download once it is in progress.\n",
    "</div>"
   ]
  },
  {
   "cell_type": "code",
   "execution_count": null,
   "metadata": {},
   "outputs": [],
   "source": [
    "num_frames = 100\n",
    "\n",
    "settings = config_settings.ConfigSettings('./configs/accuracy_infer_on_j7.yaml', \n",
    "                                          num_frames=num_frames, \n",
    "                                          task_selection = selected_task_id.value,\n",
    "                                          dataset_loading = selected_dataset_id.value)\n",
    "_ = datasets.download_datasets(settings)"
   ]
  },
  {
   "cell_type": "markdown",
   "metadata": {},
   "source": [
    "## Select Model"
   ]
  },
  {
   "cell_type": "code",
   "execution_count": null,
   "metadata": {},
   "outputs": [],
   "source": [
    "work_dir = os.path.join('prebuilt-models', f'{settings.tidl_tensor_bits}bits')\n",
    "\n",
    "prebuilt_configs = configs.select_configs(settings, work_dir, selected_rt_id.value)\n",
    "merged_list = utils.get_name_key_pair_list(prebuilt_configs.keys(), selected_rt_id.value)\n",
    "\n",
    "selected_model_id = widgets.Dropdown(\n",
    "    options=merged_list,\n",
    "    value=merged_list[0][1],\n",
    "    description='Select Model:',\n",
    "    disabled=False,\n",
    ")\n",
    "display(selected_model_id)"
   ]
  },
  {
   "cell_type": "markdown",
   "metadata": {},
   "source": [
    "## Perform inference to get Accuracy Benchmarks\n",
    "Once the selections are made, execute the code segment below to get accuracy benchmarks. Below are the accuracy statistics that will be displayed based on the selected task:\n",
    "- Image Classification - Top 1% accuracy\n",
    "- Object detection - mAP % at Various Box overlaps \\[0.5 to 0.95\\]\n",
    "- Semantic Segmentation - mIOU % (Mean IOU)"
   ]
  },
  {
   "cell_type": "code",
   "execution_count": null,
   "metadata": {
    "scrolled": true
   },
   "outputs": [],
   "source": [
    "pipeline_configs = {selected_model_id.value:prebuilt_configs[selected_model_id.value]}\n",
    "pipeline_runner = pipelines.PipelineRunner(settings, pipeline_configs)\n",
    "\n",
    "_ = pipeline_runner.run()"
   ]
  }
 ],
 "metadata": {
  "kernelspec": {
   "display_name": "Python 3",
   "language": "python",
   "name": "python3"
  },
  "language_info": {
   "codemirror_mode": {
    "name": "ipython",
    "version": 3
   },
   "file_extension": ".py",
   "mimetype": "text/x-python",
   "name": "python",
   "nbconvert_exporter": "python",
   "pygments_lexer": "ipython3",
   "version": "3.7.4"
  }
 },
 "nbformat": 4,
 "nbformat_minor": 4
}
